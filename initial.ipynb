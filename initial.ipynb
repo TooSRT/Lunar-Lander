{
 "cells": [
  {
   "cell_type": "code",
   "execution_count": 1,
   "metadata": {},
   "outputs": [],
   "source": [
    "import torch\n",
    "import torch.nn as nn\n",
    "import gymnasium as gym\n",
    "import numpy as np\n",
    "import time\n",
    "import pandas as pd\n",
    "import matplotlib.pyplot as plt"
   ]
  },
  {
   "cell_type": "code",
   "execution_count": 2,
   "metadata": {},
   "outputs": [],
   "source": [
    "# NN model, lunar lander environment, run the model\n",
    "def run(model, env, n_sim):\n",
    "    model.eval()\n",
    "    \n",
    "    all_rewards = np.zeros(n_sim)\n",
    "    with torch.no_grad():\n",
    "        for idx_sim in range(n_sim):\n",
    "            observation, info = env.reset() # Reset environment\n",
    "            terminated = False\n",
    "            truncated = False\n",
    "            while not terminated and not truncated:\n",
    "                observation = torch.from_numpy(observation)\n",
    "                action = torch.argmax(model(observation))\n",
    "                #action = torch.argmax(torch.rand(4)) #generate random action (0,1,2,3)\n",
    "                observation, reward, terminated, truncated, info = env.step(action.item())\n",
    "                all_rewards[idx_sim] += reward\n",
    "                \n",
    "    return np.mean(all_rewards)"
   ]
  },
  {
   "cell_type": "markdown",
   "metadata": {},
   "source": [
    "## Question 2"
   ]
  },
  {
   "cell_type": "code",
   "execution_count": 3,
   "metadata": {},
   "outputs": [
    {
     "name": "stderr",
     "output_type": "stream",
     "text": [
      "<frozen importlib._bootstrap>:488: RuntimeWarning: Your system is avx2 capable but pygame was not built with support for it. The performance of some of your blits could be adversely affected. Consider enabling compile time detection with environment variables like PYGAME_DETECT_AVX2=1 if you are compiling without cross compilation.\n"
     ]
    }
   ],
   "source": [
    "#Create the envirnoment \n",
    "env = gym.make(\n",
    "    \"LunarLander-v3\",\n",
    "    continuous = False,\n",
    "    gravity = -10.0,\n",
    "    enable_wind = False,\n",
    "    wind_power = 15.0,\n",
    "    turbulence_power = 1.5,\n",
    "    #render_mode=\"human\", # None for intensive simulation\n",
    ")\n",
    "\n",
    "#Create the lunar lander ANN model\n",
    "class LunarLanderANN(nn.Module):\n",
    "    def __init__(self):\n",
    "        super(LunarLanderANN, self).__init__()\n",
    "        \n",
    "        self.input_dim = 8    # [x, y, vx, vy, theta, omega, leg1, leg2]\n",
    "        self.output_dim = 4   # [0,1,2,3] actions\n",
    "        \n",
    "        self.hdim_1 = 64  #neurons in fc1 layers\n",
    "        \n",
    "        self.fc1 = nn.Linear(self.input_dim, self.hdim_1)\n",
    "        torch.nn.init.uniform_(self.fc1.weight, a=-1.0, b=1.0)\n",
    "        self.activation1 = nn.ReLU()\n",
    "        \n",
    "        self.fc2 = nn.Linear(self.hdim_1, self.output_dim)\n",
    "        torch.nn.init.uniform_(self.fc2.weight, a=-1.0, b=1.0)\n",
    "        \n",
    "    def forward(self, x):\n",
    "        out = self.fc1(x)\n",
    "        out = self.activation1(out)\n",
    "        out = self.fc2(out)\n",
    "        return out\n",
    "\n",
    "\n",
    "#Model test\n",
    "model = LunarLanderANN()\n",
    "run(model,env,1)\n",
    "env.close()"
   ]
  },
  {
   "cell_type": "code",
   "execution_count": 6,
   "metadata": {},
   "outputs": [
    {
     "name": "stderr",
     "output_type": "stream",
     "text": [
      "/home/theo/anaconda3/lib/python3.12/site-packages/gymnasium/wrappers/rendering.py:283: UserWarning: \u001b[33mWARN: Overwriting existing videos at /home/theo/Documents/Cours/Machine_Learning/Project_9/videos folder (try specifying a different `video_folder` for the `RecordVideo` wrapper if this is not desired)\u001b[0m\n",
      "  logger.warn(\n"
     ]
    },
    {
     "name": "stdout",
     "output_type": "stream",
     "text": [
      "112.87199402599337\n"
     ]
    }
   ],
   "source": [
    "#Create a random landing video based on the LunarLanderANN model and save it \n",
    "from gymnasium.wrappers import RecordVideo\n",
    "trigger = lambda t: t % 5 == 0\n",
    "env = gym.make(\n",
    "    \"LunarLander-v3\",\n",
    "    continuous = False,\n",
    "    gravity = -10.0,\n",
    "    enable_wind = False,\n",
    "    wind_power = 15.0,\n",
    "    turbulence_power = 1.5,\n",
    "    render_mode=\"rgb_array\", # None for intensive simulation\n",
    ")\n",
    "env = RecordVideo(env, video_folder=\"./videos\", episode_trigger=trigger,video_length=500, disable_logger=True)\n",
    "model = LunarLanderANN()\n",
    "run(model,env,1)\n",
    "env.close()"
   ]
  },
  {
   "cell_type": "markdown",
   "metadata": {},
   "source": [
    "## Question 3\n",
    "We now implement the genetic Algorithm"
   ]
  },
  {
   "cell_type": "markdown",
   "metadata": {},
   "source": [
    "Now we're going to use the fitness of each instances to create a tournament (selection), crosspoint and mutation of the problem.\n",
    "\n",
    "First we do the tournament."
   ]
  },
  {
   "cell_type": "code",
   "execution_count": 5,
   "metadata": {},
   "outputs": [],
   "source": [
    "def tournament(population, fitness_scores, tsize):\n",
    "    \"\"\"\n",
    "    Select the individual with the best rewards (score) for landing\n",
    "    \n",
    "    Args:\n",
    "        population (list): List of our  population (instances of LunarLanderANN)\n",
    "        fitness_scores (np.array): List of the scores of our instances\n",
    "        tsize (int): Size of the tournament (number of instances choosen aleatory)\n",
    "    \n",
    "    Returns:\n",
    "        list: New population (instances of LunarLanderANN) selected\n",
    "    \"\"\"\n",
    "    selected_population = population.copy() #copy all the instances\n",
    "    \n",
    "    for i in range(len(population)):\n",
    "        # select tsize individuals without replacement\n",
    "        idx = np.random.choice(len(population), tsize, replace=False)\n",
    "        # Do the tournament\n",
    "        # select the best index of the best individual of a tournament        \n",
    "        best = idx[np.argmax(np.array(fitness_scores)[idx])] #here we want the highest score so argmax\n",
    "        selected_population[i] = population[best]\n",
    "    \n",
    "    return selected_population\n",
    "\n",
    "#tournament(population, fitness_scores, 10)"
   ]
  },
  {
   "cell_type": "markdown",
   "metadata": {},
   "source": [
    "Now that we have done the tournament to choose the best instances we have to do the crosspoint where we combine the best instances together to create new instances."
   ]
  },
  {
   "cell_type": "code",
   "execution_count": 6,
   "metadata": {},
   "outputs": [],
   "source": [
    "import copy\n",
    "def get_param_vector(ann):\n",
    "    \"\"\"\n",
    "    Extracts and concatenates the weights of fc1 and fc2 from the model into a single vector\n",
    "    \n",
    "    Args:\n",
    "        ann (nn.module): An instance of LunarLanderANN\n",
    "        \n",
    "    Returns:\n",
    "        param_vector (np.array): Concatenated vector of weights from fc1 and fc2\n",
    "    \"\"\"    \n",
    "    #Extract and flatten fc1 weights\n",
    "    fc1_weights = ann.fc1.weight.data.cpu().numpy().flatten()\n",
    "    #Extract and flatten fc2 weights\n",
    "    fc2_weights = ann.fc2.weight.data.cpu().numpy().flatten()\n",
    "    #Concatenate the two parts\n",
    "    return np.concatenate((fc1_weights, fc2_weights))\n",
    "\n",
    "def get_reward(ann, env, param, n_sim):\n",
    "    with torch.no_grad():\n",
    "        numel1 = torch.numel(ann.fc1.weight)\n",
    "        ann.fc1.weight.copy_(torch.from_numpy(param[:numel1].astype(np.float32)).view_as(ann.fc1.weight))\n",
    "        ann.fc2.weight.copy_(torch.from_numpy(param[numel1:].astype(np.float32)).view_as(ann.fc2.weight))\n",
    "            \n",
    "def crossover(population):\n",
    "    \"\"\"\n",
    "    Performs crossover on a population of individuals (LunarLanderANN models)\n",
    "    \n",
    "    For each pair of parents a random single crossover point is chosen for each parameter in the flattened parameter tensor. \n",
    "    Child 1 receives the first segment from parent 1 and the remaining segment from parent 2 \n",
    "    while child 2 receives the first segment from parent 2 and the remaining segment from parent 1\n",
    "    \n",
    "    Args:\n",
    "        population (list): List of LunarLanderANN instances \n",
    "        \n",
    "    Returns:\n",
    "        children (list): New list of individuals (children) resulting from the crossover\n",
    "    \"\"\"\n",
    "    children = []\n",
    "    div = int(len(population) / 2)  # be sure that pop_size is even, we divide the population in 2\n",
    "    #print(population)\n",
    "    #For each pair of parents (first half paired with second half)\n",
    "    for i in range(div):\n",
    "        #Parents that are gonna give their \"weights\"\n",
    "        parent1 = population[i] #instances\n",
    "        parent2 = population[i + div] #second part of instances\n",
    "            \n",
    "        param_vector1 = get_param_vector(parent1)\n",
    "        param_vector2 = get_param_vector(parent2)\n",
    "\n",
    "        cut = np.random.randint(1,len(param_vector1))\n",
    "\n",
    "        #create the new weights for child1 and child2 from both of the parents\n",
    "        child_param_vector1 = np.concatenate((param_vector1[:cut], param_vector2[cut:]))\n",
    "        child_param_vector2 = np.concatenate((param_vector2[:cut], param_vector1[cut:]))\n",
    "            \n",
    "        #Create copies to form children\n",
    "        #use deepcopy to copy a pytorch instance (then modify the weights) so we don't modify parents\n",
    "        child1 = copy.deepcopy(parent1)\n",
    "        child2 = copy.deepcopy(parent2)\n",
    "\n",
    "        #Update the weights of children with the new parameter vector\n",
    "        get_reward(child1, env, child_param_vector1, n_sim)\n",
    "        get_reward(child2, env, child_param_vector2, n_sim)\n",
    "            \n",
    "        children.append(child1)\n",
    "        children.append(child2)\n",
    "\n",
    "    return children\n",
    "\n",
    "#crossover(population)"
   ]
  },
  {
   "cell_type": "markdown",
   "metadata": {},
   "source": [
    "Now we do the mutation part, we slighty modify the weights of our instances choosen in order to add variability and explore the search space."
   ]
  },
  {
   "cell_type": "code",
   "execution_count": 7,
   "metadata": {},
   "outputs": [],
   "source": [
    "def mutate_individual(individual, mutation_rate, mutation_strength):\n",
    "    \"\"\"\n",
    "    Mutates an individual's weights by adding small random noise\n",
    "    \n",
    "    For each parameter (weights here) a mutationt is generated \n",
    "    where each element has a probability 'mutation_rate' to be mutated. The mutation \n",
    "    is performed by adding noise from a normal distribution to the selected weights\n",
    "    \n",
    "    Args:\n",
    "        -individual (nn.Module): neural network model (i.e an instance of LunarLanderANN)\n",
    "        -mutation_rate (float): probability of mutating each individual weight\n",
    "        -mutation_strength (float): standard deviation of the normal distribution for the noise (weights are in [-1,1]\n",
    "    \"\"\"\n",
    "    with torch.no_grad():\n",
    "        for param in individual.parameters():\n",
    "            #choose a probability to have a mutation for each weight\n",
    "            indv_mutate = torch.rand_like(param) < mutation_rate\n",
    "            #Add noise based on normal gaussian distribution\n",
    "            param.data.add_(indv_mutate.float() * torch.randn_like(param) * mutation_strength)\n",
    "            #assure that weights stay between [-1,1]\n",
    "            param.data.clamp_(-1, 1)\n"
   ]
  },
  {
   "cell_type": "code",
   "execution_count": 8,
   "metadata": {},
   "outputs": [],
   "source": [
    "def genetic_algorithm(iterations, pop_size, tsize, mutation_rate, mutation_strength, n_sim, env):\n",
    "    \"\"\"\n",
    "    Genetic algorithm to optimize LunaLanderANN\n",
    "    \n",
    "    Args:\n",
    "        iterations (int): number of iterations for our algorthm (number of time we create new instances)\n",
    "        pop_size (int): number of instances (LunarLanderANN)\n",
    "        tsize (int): tournament size\n",
    "        mutation_rate (float): probability of a weight to be affected by mutation\n",
    "        mutation_strenght (float): coefficient of the mutation\n",
    "        n_sim (int): number of simulation for each instance\n",
    "        env (nn.module): \n",
    "        \n",
    "    Returns:\n",
    "        best_model_histoire (list): list of the best instances (nn.module)\n",
    "        best_fitness_history (list): list of the best fitness score obtained at each iteration\n",
    "\n",
    "    \"\"\"\n",
    "    #Initialize our instances\n",
    "    population = [LunarLanderANN() for i in range(pop_size)]\n",
    "\n",
    "    #store the best fitness and the best models\n",
    "    best_fitness_history = []\n",
    "    best_model_history = []\n",
    "    \n",
    "    for iteration in range(iterations):\n",
    "        #evaluate the fitness (score)\n",
    "        fitness_scores = [run(individual, env, n_sim) for individual in population]\n",
    "        #print(fitness_scores)\n",
    "        \n",
    "        #save the best score\n",
    "        best_idx = np.argmax(fitness_scores) #get index of the best fitness\n",
    "        #print('best idx',best_idx)\n",
    "        best_fitness = fitness_scores[best_idx] #access the best fitness\n",
    "        best_model = copy.deepcopy(population[best_idx]) #get the best model of the population based on the best fitness\n",
    "\n",
    "        #save the best model/fitness score\n",
    "        best_fitness_history.append(best_fitness)\n",
    "        best_model_history.append(best_model)\n",
    "        \n",
    "        print(f\"Iteration {iteration}: best score (fitness) = {best_fitness:.2f}\")\n",
    "        \n",
    "        #Selection of the best instances with the tournameny\n",
    "        population = tournament(population, fitness_scores, tsize)\n",
    "        \n",
    "        #Crossover to get the best population\n",
    "        population = crossover(population)\n",
    "        \n",
    "        #Mutate each individual in the new population\n",
    "        for individual in population:\n",
    "            mutate_individual(individual, mutation_rate, mutation_strength)\n",
    "    \n",
    "    df = pd.DataFrame({\"Iteration\": range(1, iterations + 1), \"Best_Fitness\": best_fitness_history})\n",
    "\n",
    "    df.to_csv(\"best_scores.csv\", index=False)\n",
    "\n",
    "    with open(\"best_fitness_history.txt\", \"w\") as f:\n",
    "        for fitness in best_fitness_history:\n",
    "            f.write(f\"{fitness}\\n\")\n",
    "    \n",
    "    return best_model_history, best_fitness_history"
   ]
  },
  {
   "cell_type": "code",
   "execution_count": 21,
   "metadata": {},
   "outputs": [
    {
     "name": "stdout",
     "output_type": "stream",
     "text": [
      "Iteration 0: best score (fitness) = -123.21\n",
      "Iteration 1: best score (fitness) = -115.36\n",
      "Iteration 2: best score (fitness) = -67.63\n",
      "Iteration 3: best score (fitness) = -65.47\n",
      "Iteration 4: best score (fitness) = -74.75\n",
      "Iteration 5: best score (fitness) = -85.36\n",
      "Iteration 6: best score (fitness) = -83.15\n",
      "Iteration 7: best score (fitness) = -85.45\n",
      "Iteration 8: best score (fitness) = -87.64\n",
      "Iteration 9: best score (fitness) = -78.84\n",
      "Iteration 10: best score (fitness) = -85.83\n",
      "Iteration 11: best score (fitness) = -83.83\n",
      "Iteration 12: best score (fitness) = -95.00\n",
      "Iteration 13: best score (fitness) = -73.01\n",
      "Iteration 14: best score (fitness) = -98.25\n",
      "Iteration 15: best score (fitness) = -84.17\n",
      "Iteration 16: best score (fitness) = -80.28\n",
      "Iteration 17: best score (fitness) = -103.87\n",
      "Iteration 18: best score (fitness) = -68.81\n",
      "Iteration 19: best score (fitness) = -82.86\n"
     ]
    },
    {
     "data": {
      "image/png": "[encoded data removed]",
      "text/plain": [
       "<Figure size 640x480 with 1 Axes>"
      ]
     },
     "metadata": {},
     "output_type": "display_data"
    }
   ],
   "source": [
    "#----------test---------\n",
    "env = gym.make(\n",
    "    \"LunarLander-v3\",\n",
    "    continuous = False,\n",
    "    gravity = -10.0,\n",
    "    enable_wind = False,\n",
    "    wind_power = 15.0,\n",
    "    turbulence_power = 1.5,\n",
    "    #render_mode=\"human\", # None for intensive simulation\n",
    ")\n",
    "\n",
    "iterations = 20 #pop_size==iterations ? 400-500\n",
    "pop_size = 40    #prendre 80 \n",
    "n_sim = 5 #10\n",
    "tsize = 3               \n",
    "mutation_rate = 0.5    \n",
    "mutation_strength = 0.02\n",
    "            \n",
    "\n",
    "best_model, best_scores = genetic_algorithm(iterations, pop_size, tsize, mutation_rate, mutation_strength, n_sim, env)\n",
    "    \n",
    "env.close()\n",
    "\n",
    "plt.plot(best_scores, marker='o')\n",
    "plt.xlabel(\"Iteration\")\n",
    "plt.ylabel(\"Best fitness\")\n",
    "plt.title(\"Evolution of fitness\")\n",
    "plt.show()"
   ]
  },
  {
   "cell_type": "code",
   "execution_count": 22,
   "metadata": {},
   "outputs": [],
   "source": [
    "env = gym.make(\n",
    "    \"LunarLander-v3\",\n",
    "    continuous = False,\n",
    "    gravity = -10.0,\n",
    "    enable_wind = False,\n",
    "    wind_power = 15.0,\n",
    "    turbulence_power = 1.5,\n",
    "    render_mode=\"human\", # None for intensive simulation\n",
    ")\n",
    "\n",
    "run(best_model[-1], env, 5)\n",
    "    \n",
    "env.close()"
   ]
  }
 ],
 "metadata": {
  "kernelspec": {
   "display_name": "Python 3 (ipykernel)",
   "language": "python",
   "name": "python3"
  },
  "language_info": {
   "codemirror_mode": {
    "name": "ipython",
    "version": 3
   },
   "file_extension": ".py",
   "mimetype": "text/x-python",
   "name": "python",
   "nbconvert_exporter": "python",
   "pygments_lexer": "ipython3",
   "version": "3.12.2"
  }
 },
 "nbformat": 4,
 "nbformat_minor": 4
}
